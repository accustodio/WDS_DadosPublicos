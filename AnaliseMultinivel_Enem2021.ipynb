{
  "nbformat": 4,
  "nbformat_minor": 0,
  "metadata": {
    "colab": {
      "provenance": []
    },
    "kernelspec": {
      "name": "python3",
      "display_name": "Python 3"
    },
    "language_info": {
      "name": "python"
    }
  },
  "cells": [
    {
      "cell_type": "markdown",
      "source": [
        "## Análise de Dados do Enem 2021\n",
        "\n",
        "O Objetivo desse noteboook é trabalhar:\n",
        "\n",
        "\n",
        "\n",
        "1.   Análise Descritiva da base\n",
        "2.   Explorar ideias com Modelagem Multinível\n",
        "\n",
        "\n",
        "Essa análise de dados utiliza os microdados do Enem disponibilizados no portal do Inep [aqui](https://www.gov.br/inep/pt-br/acesso-a-informacao/dados-abertos/microdados/enem).\n",
        "\n",
        "A análise dos dados foi feita em Python e foi utilizado o [Rpy2](https://rpy2.github.io/) para ajustar um modelo no R, com o pacote [lme4](https://cran.r-project.org/web/packages/lme4/index.html)."
      ],
      "metadata": {
        "id": "niCmbg5X69fN"
      }
    },
    {
      "cell_type": "code",
      "metadata": {
        "id": "2xa_SFsTscRg"
      },
      "source": [
        "# Install R and Rpy2\n",
        "!apt-get install r-base\n",
        "!pip install -Iv rpy2==3.4.2\n",
        "\n",
        "# Install LMER packages (THIS TAKES ABOUT 3~5 minutes)\n",
        "packnames = ('lme4', 'lmerTest', 'emmeans', \"geepack\",\"optimx\")\n",
        "from rpy2.robjects.packages import importr\n",
        "from rpy2.robjects.vectors import StrVector\n",
        "utils = importr(\"utils\")\n",
        "utils.chooseCRANmirror(ind=1)\n",
        "utils.install_packages(StrVector(packnames))"
      ],
      "execution_count": null,
      "outputs": []
    },
    {
      "cell_type": "code",
      "source": [
        "%load_ext rpy2.ipython\n",
        "# Enable cell magic for Rpy2 interface"
      ],
      "metadata": {
        "colab": {
          "base_uri": "https://localhost:8080/"
        },
        "id": "v24_Gif56ZqI",
        "outputId": "5b416050-1519-4585-e395-b3ebe2a32144"
      },
      "execution_count": null,
      "outputs": [
        {
          "output_type": "stream",
          "name": "stdout",
          "text": [
            "The rpy2.ipython extension is already loaded. To reload it, use:\n",
            "  %reload_ext rpy2.ipython\n"
          ]
        }
      ]
    },
    {
      "cell_type": "code",
      "execution_count": null,
      "metadata": {
        "colab": {
          "base_uri": "https://localhost:8080/",
          "height": 206
        },
        "id": "Juh6huKO7WcX",
        "outputId": "54305f57-d09e-456b-be38-0981e61709e7"
      },
      "outputs": [
        {
          "output_type": "execute_result",
          "data": {
            "text/plain": [
              "   NU_NOTA_MT  TP_COR_RACA  TP_ESCOLA TP_SEXO Q002  NU_NOTA_CN  NU_NOTA_CH  \\\n",
              "0       501.1            1          1       F    H       556.8       393.2   \n",
              "1       555.2            3          2       M    H       365.2       419.7   \n",
              "2       577.7            3          1       F    G       605.5       592.5   \n",
              "3       424.0            3          1       F    E       386.9       388.6   \n",
              "4       416.9            4          1       F    C       438.3       540.5   \n",
              "\n",
              "   NU_NOTA_LC  TP_ANO_CONCLUIU  \n",
              "0       373.7                4  \n",
              "1       424.6                0  \n",
              "2       626.4                4  \n",
              "3       391.1                0  \n",
              "4       481.1                3  "
            ],
            "text/html": [
              "\n",
              "  <div id=\"df-9e9ea7d1-389a-4c6a-b3ba-31d54d8673ba\">\n",
              "    <div class=\"colab-df-container\">\n",
              "      <div>\n",
              "<style scoped>\n",
              "    .dataframe tbody tr th:only-of-type {\n",
              "        vertical-align: middle;\n",
              "    }\n",
              "\n",
              "    .dataframe tbody tr th {\n",
              "        vertical-align: top;\n",
              "    }\n",
              "\n",
              "    .dataframe thead th {\n",
              "        text-align: right;\n",
              "    }\n",
              "</style>\n",
              "<table border=\"1\" class=\"dataframe\">\n",
              "  <thead>\n",
              "    <tr style=\"text-align: right;\">\n",
              "      <th></th>\n",
              "      <th>NU_NOTA_MT</th>\n",
              "      <th>TP_COR_RACA</th>\n",
              "      <th>TP_ESCOLA</th>\n",
              "      <th>TP_SEXO</th>\n",
              "      <th>Q002</th>\n",
              "      <th>NU_NOTA_CN</th>\n",
              "      <th>NU_NOTA_CH</th>\n",
              "      <th>NU_NOTA_LC</th>\n",
              "      <th>TP_ANO_CONCLUIU</th>\n",
              "    </tr>\n",
              "  </thead>\n",
              "  <tbody>\n",
              "    <tr>\n",
              "      <th>0</th>\n",
              "      <td>501.1</td>\n",
              "      <td>1</td>\n",
              "      <td>1</td>\n",
              "      <td>F</td>\n",
              "      <td>H</td>\n",
              "      <td>556.8</td>\n",
              "      <td>393.2</td>\n",
              "      <td>373.7</td>\n",
              "      <td>4</td>\n",
              "    </tr>\n",
              "    <tr>\n",
              "      <th>1</th>\n",
              "      <td>555.2</td>\n",
              "      <td>3</td>\n",
              "      <td>2</td>\n",
              "      <td>M</td>\n",
              "      <td>H</td>\n",
              "      <td>365.2</td>\n",
              "      <td>419.7</td>\n",
              "      <td>424.6</td>\n",
              "      <td>0</td>\n",
              "    </tr>\n",
              "    <tr>\n",
              "      <th>2</th>\n",
              "      <td>577.7</td>\n",
              "      <td>3</td>\n",
              "      <td>1</td>\n",
              "      <td>F</td>\n",
              "      <td>G</td>\n",
              "      <td>605.5</td>\n",
              "      <td>592.5</td>\n",
              "      <td>626.4</td>\n",
              "      <td>4</td>\n",
              "    </tr>\n",
              "    <tr>\n",
              "      <th>3</th>\n",
              "      <td>424.0</td>\n",
              "      <td>3</td>\n",
              "      <td>1</td>\n",
              "      <td>F</td>\n",
              "      <td>E</td>\n",
              "      <td>386.9</td>\n",
              "      <td>388.6</td>\n",
              "      <td>391.1</td>\n",
              "      <td>0</td>\n",
              "    </tr>\n",
              "    <tr>\n",
              "      <th>4</th>\n",
              "      <td>416.9</td>\n",
              "      <td>4</td>\n",
              "      <td>1</td>\n",
              "      <td>F</td>\n",
              "      <td>C</td>\n",
              "      <td>438.3</td>\n",
              "      <td>540.5</td>\n",
              "      <td>481.1</td>\n",
              "      <td>3</td>\n",
              "    </tr>\n",
              "  </tbody>\n",
              "</table>\n",
              "</div>\n",
              "      <button class=\"colab-df-convert\" onclick=\"convertToInteractive('df-9e9ea7d1-389a-4c6a-b3ba-31d54d8673ba')\"\n",
              "              title=\"Convert this dataframe to an interactive table.\"\n",
              "              style=\"display:none;\">\n",
              "        \n",
              "  <svg xmlns=\"http://www.w3.org/2000/svg\" height=\"24px\"viewBox=\"0 0 24 24\"\n",
              "       width=\"24px\">\n",
              "    <path d=\"M0 0h24v24H0V0z\" fill=\"none\"/>\n",
              "    <path d=\"M18.56 5.44l.94 2.06.94-2.06 2.06-.94-2.06-.94-.94-2.06-.94 2.06-2.06.94zm-11 1L8.5 8.5l.94-2.06 2.06-.94-2.06-.94L8.5 2.5l-.94 2.06-2.06.94zm10 10l.94 2.06.94-2.06 2.06-.94-2.06-.94-.94-2.06-.94 2.06-2.06.94z\"/><path d=\"M17.41 7.96l-1.37-1.37c-.4-.4-.92-.59-1.43-.59-.52 0-1.04.2-1.43.59L10.3 9.45l-7.72 7.72c-.78.78-.78 2.05 0 2.83L4 21.41c.39.39.9.59 1.41.59.51 0 1.02-.2 1.41-.59l7.78-7.78 2.81-2.81c.8-.78.8-2.07 0-2.86zM5.41 20L4 18.59l7.72-7.72 1.47 1.35L5.41 20z\"/>\n",
              "  </svg>\n",
              "      </button>\n",
              "      \n",
              "  <style>\n",
              "    .colab-df-container {\n",
              "      display:flex;\n",
              "      flex-wrap:wrap;\n",
              "      gap: 12px;\n",
              "    }\n",
              "\n",
              "    .colab-df-convert {\n",
              "      background-color: #E8F0FE;\n",
              "      border: none;\n",
              "      border-radius: 50%;\n",
              "      cursor: pointer;\n",
              "      display: none;\n",
              "      fill: #1967D2;\n",
              "      height: 32px;\n",
              "      padding: 0 0 0 0;\n",
              "      width: 32px;\n",
              "    }\n",
              "\n",
              "    .colab-df-convert:hover {\n",
              "      background-color: #E2EBFA;\n",
              "      box-shadow: 0px 1px 2px rgba(60, 64, 67, 0.3), 0px 1px 3px 1px rgba(60, 64, 67, 0.15);\n",
              "      fill: #174EA6;\n",
              "    }\n",
              "\n",
              "    [theme=dark] .colab-df-convert {\n",
              "      background-color: #3B4455;\n",
              "      fill: #D2E3FC;\n",
              "    }\n",
              "\n",
              "    [theme=dark] .colab-df-convert:hover {\n",
              "      background-color: #434B5C;\n",
              "      box-shadow: 0px 1px 3px 1px rgba(0, 0, 0, 0.15);\n",
              "      filter: drop-shadow(0px 1px 2px rgba(0, 0, 0, 0.3));\n",
              "      fill: #FFFFFF;\n",
              "    }\n",
              "  </style>\n",
              "\n",
              "      <script>\n",
              "        const buttonEl =\n",
              "          document.querySelector('#df-9e9ea7d1-389a-4c6a-b3ba-31d54d8673ba button.colab-df-convert');\n",
              "        buttonEl.style.display =\n",
              "          google.colab.kernel.accessAllowed ? 'block' : 'none';\n",
              "\n",
              "        async function convertToInteractive(key) {\n",
              "          const element = document.querySelector('#df-9e9ea7d1-389a-4c6a-b3ba-31d54d8673ba');\n",
              "          const dataTable =\n",
              "            await google.colab.kernel.invokeFunction('convertToInteractive',\n",
              "                                                     [key], {});\n",
              "          if (!dataTable) return;\n",
              "\n",
              "          const docLinkHtml = 'Like what you see? Visit the ' +\n",
              "            '<a target=\"_blank\" href=https://colab.research.google.com/notebooks/data_table.ipynb>data table notebook</a>'\n",
              "            + ' to learn more about interactive tables.';\n",
              "          element.innerHTML = '';\n",
              "          dataTable['output_type'] = 'display_data';\n",
              "          await google.colab.output.renderOutput(dataTable, element);\n",
              "          const docLink = document.createElement('div');\n",
              "          docLink.innerHTML = docLinkHtml;\n",
              "          element.appendChild(docLink);\n",
              "        }\n",
              "      </script>\n",
              "    </div>\n",
              "  </div>\n",
              "  "
            ]
          },
          "metadata": {},
          "execution_count": 44
        }
      ],
      "source": [
        "import pandas as pd\n",
        "\n",
        "url = 'https://raw.githubusercontent.com/accustodio/WDS_DadosPublicos/main/amostra_enem_2021.csv?token=GHSAT0AAAAAACDIHCW2ALPK4ECAYLEQBZZ2ZD2QEDQ'\n",
        "df = pd.read_csv(url)\n",
        "df.head()"
      ]
    },
    {
      "cell_type": "code",
      "source": [
        "df.shape"
      ],
      "metadata": {
        "colab": {
          "base_uri": "https://localhost:8080/",
          "height": 206
        },
        "id": "y3nB5xzCmIjd",
        "outputId": "4a68a7b1-25d7-4f4e-f4bb-3bcdf52a8c4e"
      },
      "execution_count": null,
      "outputs": [
        {
          "output_type": "execute_result",
          "data": {
            "text/plain": [
              "   NU_NOTA_MT  TP_COR_RACA  TP_ESCOLA TP_SEXO Q002  NU_NOTA_CN  NU_NOTA_CH  \\\n",
              "0       501.1            1          1       F    H       556.8       393.2   \n",
              "1       555.2            3          2       M    H       365.2       419.7   \n",
              "2       577.7            3          1       F    G       605.5       592.5   \n",
              "3       424.0            3          1       F    E       386.9       388.6   \n",
              "4       416.9            4          1       F    C       438.3       540.5   \n",
              "\n",
              "   NU_NOTA_LC  TP_ANO_CONCLUIU  TP_ESCOLACAT  \n",
              "0       373.7                4  NaoRespondeu  \n",
              "1       424.6                0       Publica  \n",
              "2       626.4                4  NaoRespondeu  \n",
              "3       391.1                0  NaoRespondeu  \n",
              "4       481.1                3  NaoRespondeu  "
            ],
            "text/html": [
              "\n",
              "  <div id=\"df-d2363efb-20af-4cd0-a7b4-e4872eb27c74\">\n",
              "    <div class=\"colab-df-container\">\n",
              "      <div>\n",
              "<style scoped>\n",
              "    .dataframe tbody tr th:only-of-type {\n",
              "        vertical-align: middle;\n",
              "    }\n",
              "\n",
              "    .dataframe tbody tr th {\n",
              "        vertical-align: top;\n",
              "    }\n",
              "\n",
              "    .dataframe thead th {\n",
              "        text-align: right;\n",
              "    }\n",
              "</style>\n",
              "<table border=\"1\" class=\"dataframe\">\n",
              "  <thead>\n",
              "    <tr style=\"text-align: right;\">\n",
              "      <th></th>\n",
              "      <th>NU_NOTA_MT</th>\n",
              "      <th>TP_COR_RACA</th>\n",
              "      <th>TP_ESCOLA</th>\n",
              "      <th>TP_SEXO</th>\n",
              "      <th>Q002</th>\n",
              "      <th>NU_NOTA_CN</th>\n",
              "      <th>NU_NOTA_CH</th>\n",
              "      <th>NU_NOTA_LC</th>\n",
              "      <th>TP_ANO_CONCLUIU</th>\n",
              "      <th>TP_ESCOLACAT</th>\n",
              "    </tr>\n",
              "  </thead>\n",
              "  <tbody>\n",
              "    <tr>\n",
              "      <th>0</th>\n",
              "      <td>501.1</td>\n",
              "      <td>1</td>\n",
              "      <td>1</td>\n",
              "      <td>F</td>\n",
              "      <td>H</td>\n",
              "      <td>556.8</td>\n",
              "      <td>393.2</td>\n",
              "      <td>373.7</td>\n",
              "      <td>4</td>\n",
              "      <td>NaoRespondeu</td>\n",
              "    </tr>\n",
              "    <tr>\n",
              "      <th>1</th>\n",
              "      <td>555.2</td>\n",
              "      <td>3</td>\n",
              "      <td>2</td>\n",
              "      <td>M</td>\n",
              "      <td>H</td>\n",
              "      <td>365.2</td>\n",
              "      <td>419.7</td>\n",
              "      <td>424.6</td>\n",
              "      <td>0</td>\n",
              "      <td>Publica</td>\n",
              "    </tr>\n",
              "    <tr>\n",
              "      <th>2</th>\n",
              "      <td>577.7</td>\n",
              "      <td>3</td>\n",
              "      <td>1</td>\n",
              "      <td>F</td>\n",
              "      <td>G</td>\n",
              "      <td>605.5</td>\n",
              "      <td>592.5</td>\n",
              "      <td>626.4</td>\n",
              "      <td>4</td>\n",
              "      <td>NaoRespondeu</td>\n",
              "    </tr>\n",
              "    <tr>\n",
              "      <th>3</th>\n",
              "      <td>424.0</td>\n",
              "      <td>3</td>\n",
              "      <td>1</td>\n",
              "      <td>F</td>\n",
              "      <td>E</td>\n",
              "      <td>386.9</td>\n",
              "      <td>388.6</td>\n",
              "      <td>391.1</td>\n",
              "      <td>0</td>\n",
              "      <td>NaoRespondeu</td>\n",
              "    </tr>\n",
              "    <tr>\n",
              "      <th>4</th>\n",
              "      <td>416.9</td>\n",
              "      <td>4</td>\n",
              "      <td>1</td>\n",
              "      <td>F</td>\n",
              "      <td>C</td>\n",
              "      <td>438.3</td>\n",
              "      <td>540.5</td>\n",
              "      <td>481.1</td>\n",
              "      <td>3</td>\n",
              "      <td>NaoRespondeu</td>\n",
              "    </tr>\n",
              "  </tbody>\n",
              "</table>\n",
              "</div>\n",
              "      <button class=\"colab-df-convert\" onclick=\"convertToInteractive('df-d2363efb-20af-4cd0-a7b4-e4872eb27c74')\"\n",
              "              title=\"Convert this dataframe to an interactive table.\"\n",
              "              style=\"display:none;\">\n",
              "        \n",
              "  <svg xmlns=\"http://www.w3.org/2000/svg\" height=\"24px\"viewBox=\"0 0 24 24\"\n",
              "       width=\"24px\">\n",
              "    <path d=\"M0 0h24v24H0V0z\" fill=\"none\"/>\n",
              "    <path d=\"M18.56 5.44l.94 2.06.94-2.06 2.06-.94-2.06-.94-.94-2.06-.94 2.06-2.06.94zm-11 1L8.5 8.5l.94-2.06 2.06-.94-2.06-.94L8.5 2.5l-.94 2.06-2.06.94zm10 10l.94 2.06.94-2.06 2.06-.94-2.06-.94-.94-2.06-.94 2.06-2.06.94z\"/><path d=\"M17.41 7.96l-1.37-1.37c-.4-.4-.92-.59-1.43-.59-.52 0-1.04.2-1.43.59L10.3 9.45l-7.72 7.72c-.78.78-.78 2.05 0 2.83L4 21.41c.39.39.9.59 1.41.59.51 0 1.02-.2 1.41-.59l7.78-7.78 2.81-2.81c.8-.78.8-2.07 0-2.86zM5.41 20L4 18.59l7.72-7.72 1.47 1.35L5.41 20z\"/>\n",
              "  </svg>\n",
              "      </button>\n",
              "      \n",
              "  <style>\n",
              "    .colab-df-container {\n",
              "      display:flex;\n",
              "      flex-wrap:wrap;\n",
              "      gap: 12px;\n",
              "    }\n",
              "\n",
              "    .colab-df-convert {\n",
              "      background-color: #E8F0FE;\n",
              "      border: none;\n",
              "      border-radius: 50%;\n",
              "      cursor: pointer;\n",
              "      display: none;\n",
              "      fill: #1967D2;\n",
              "      height: 32px;\n",
              "      padding: 0 0 0 0;\n",
              "      width: 32px;\n",
              "    }\n",
              "\n",
              "    .colab-df-convert:hover {\n",
              "      background-color: #E2EBFA;\n",
              "      box-shadow: 0px 1px 2px rgba(60, 64, 67, 0.3), 0px 1px 3px 1px rgba(60, 64, 67, 0.15);\n",
              "      fill: #174EA6;\n",
              "    }\n",
              "\n",
              "    [theme=dark] .colab-df-convert {\n",
              "      background-color: #3B4455;\n",
              "      fill: #D2E3FC;\n",
              "    }\n",
              "\n",
              "    [theme=dark] .colab-df-convert:hover {\n",
              "      background-color: #434B5C;\n",
              "      box-shadow: 0px 1px 3px 1px rgba(0, 0, 0, 0.15);\n",
              "      filter: drop-shadow(0px 1px 2px rgba(0, 0, 0, 0.3));\n",
              "      fill: #FFFFFF;\n",
              "    }\n",
              "  </style>\n",
              "\n",
              "      <script>\n",
              "        const buttonEl =\n",
              "          document.querySelector('#df-d2363efb-20af-4cd0-a7b4-e4872eb27c74 button.colab-df-convert');\n",
              "        buttonEl.style.display =\n",
              "          google.colab.kernel.accessAllowed ? 'block' : 'none';\n",
              "\n",
              "        async function convertToInteractive(key) {\n",
              "          const element = document.querySelector('#df-d2363efb-20af-4cd0-a7b4-e4872eb27c74');\n",
              "          const dataTable =\n",
              "            await google.colab.kernel.invokeFunction('convertToInteractive',\n",
              "                                                     [key], {});\n",
              "          if (!dataTable) return;\n",
              "\n",
              "          const docLinkHtml = 'Like what you see? Visit the ' +\n",
              "            '<a target=\"_blank\" href=https://colab.research.google.com/notebooks/data_table.ipynb>data table notebook</a>'\n",
              "            + ' to learn more about interactive tables.';\n",
              "          element.innerHTML = '';\n",
              "          dataTable['output_type'] = 'display_data';\n",
              "          await google.colab.output.renderOutput(dataTable, element);\n",
              "          const docLink = document.createElement('div');\n",
              "          docLink.innerHTML = docLinkHtml;\n",
              "          element.appendChild(docLink);\n",
              "        }\n",
              "      </script>\n",
              "    </div>\n",
              "  </div>\n",
              "  "
            ]
          },
          "metadata": {},
          "execution_count": 59
        }
      ]
    },
    {
      "cell_type": "code",
      "source": [
        "df.isnull().sum()"
      ],
      "metadata": {
        "colab": {
          "base_uri": "https://localhost:8080/"
        },
        "id": "DkEseRViwCyZ",
        "outputId": "0dac89ac-0ae0-43c3-9b3d-70972346ba0d"
      },
      "execution_count": null,
      "outputs": [
        {
          "output_type": "execute_result",
          "data": {
            "text/plain": [
              "NU_NOTA_MT           0\n",
              "TP_COR_RACA          0\n",
              "TP_ESCOLA            0\n",
              "TP_SEXO              0\n",
              "Q002                 0\n",
              "NU_NOTA_CN           0\n",
              "NU_NOTA_CH         426\n",
              "NU_NOTA_LC         426\n",
              "TP_ANO_CONCLUIU      0\n",
              "dtype: int64"
            ]
          },
          "metadata": {},
          "execution_count": 45
        }
      ]
    },
    {
      "cell_type": "code",
      "source": [
        "mapeamento = {1: 'NaoRespondeu', 2: 'Publica', 3: 'Privada'}\n",
        "df['TP_ESCOLACAT'] = df['TP_ESCOLA'].replace(mapeamento)\n",
        "df['TP_ESCOLACAT'].value_counts()"
      ],
      "metadata": {
        "colab": {
          "base_uri": "https://localhost:8080/"
        },
        "id": "1delbSYl0DQU",
        "outputId": "fe827824-1974-40f5-c6b0-ae7a4eb92568"
      },
      "execution_count": null,
      "outputs": [
        {
          "output_type": "execute_result",
          "data": {
            "text/plain": [
              "NaoRespondeu    69481\n",
              "Publica         33762\n",
              "Privada          9057\n",
              "Name: TP_ESCOLACAT, dtype: int64"
            ]
          },
          "metadata": {},
          "execution_count": 46
        }
      ]
    },
    {
      "cell_type": "code",
      "source": [
        "df.Q002.value_counts().sort_index()"
      ],
      "metadata": {
        "colab": {
          "base_uri": "https://localhost:8080/"
        },
        "id": "9bC7GgRZiE1p",
        "outputId": "cf210a29-ec7c-46d4-b8ec-ba2899d1a6f0"
      },
      "execution_count": null,
      "outputs": [
        {
          "output_type": "execute_result",
          "data": {
            "text/plain": [
              "A     2457\n",
              "B    12314\n",
              "C    11412\n",
              "D    12308\n",
              "E    39729\n",
              "F    16060\n",
              "G    15520\n",
              "H     2500\n",
              "Name: Q002, dtype: int64"
            ]
          },
          "metadata": {},
          "execution_count": 51
        }
      ]
    },
    {
      "cell_type": "code",
      "source": [
        "df.NU_NOTA_MT.describe()"
      ],
      "metadata": {
        "colab": {
          "base_uri": "https://localhost:8080/"
        },
        "id": "tjDCrMd8oe7-",
        "outputId": "ddd547ea-11c4-4b32-da68-276e35097b2c"
      },
      "execution_count": null,
      "outputs": [
        {
          "output_type": "execute_result",
          "data": {
            "text/plain": [
              "count    112300.000000\n",
              "mean        535.248245\n",
              "std         110.424382\n",
              "min           0.000000\n",
              "25%         445.000000\n",
              "50%         516.000000\n",
              "75%         614.100000\n",
              "max         953.100000\n",
              "Name: NU_NOTA_MT, dtype: float64"
            ]
          },
          "metadata": {},
          "execution_count": 60
        }
      ]
    },
    {
      "cell_type": "code",
      "source": [
        "%%R -i df\n",
        "\n",
        "# LMER model in R\n",
        "modelo<-lmer('NU_NOTA_MT ~ Q002+(1|TP_ESCOLACAT)', data=df)\n",
        "print(summary(modelo))"
      ],
      "metadata": {
        "colab": {
          "base_uri": "https://localhost:8080/"
        },
        "id": "A89BDFQAg-j6",
        "outputId": "b12fd8f6-0bef-4126-e4f0-7fa369d3ab41"
      },
      "execution_count": null,
      "outputs": [
        {
          "output_type": "stream",
          "name": "stderr",
          "text": [
            "/usr/local/lib/python3.10/dist-packages/rpy2/robjects/pandas2ri.py:55: FutureWarning: iteritems is deprecated and will be removed in a future version. Use .items instead.\n",
            "  for name, values in obj.iteritems():\n"
          ]
        },
        {
          "output_type": "stream",
          "name": "stdout",
          "text": [
            "Linear mixed model fit by REML. t-tests use Satterthwaite's method [\n",
            "lmerModLmerTest]\n",
            "Formula: \"NU_NOTA_MT ~ Q002+(1|TP_ESCOLACAT)\"\n",
            "   Data: df\n",
            "\n",
            "REML criterion at convergence: 1358325\n",
            "\n",
            "Scaled residuals: \n",
            "    Min      1Q  Median      3Q     Max \n",
            "-5.7640 -0.7609 -0.1263  0.6866  4.3311 \n",
            "\n",
            "Random effects:\n",
            " Groups       Name        Variance Std.Dev.\n",
            " TP_ESCOLACAT (Intercept)  1233     35.12  \n",
            " Residual                 10485    102.40  \n",
            "Number of obs: 112300, groups:  TP_ESCOLACAT, 3\n",
            "\n",
            "Fixed effects:\n",
            "             Estimate Std. Error        df t value Pr(>|t|)    \n",
            "(Intercept) 4.754e+02  2.038e+01 2.043e+00   23.32  0.00165 ** \n",
            "Q002B       2.303e+01  2.263e+00 1.123e+05   10.18  < 2e-16 ***\n",
            "Q002C       4.030e+01  2.279e+00 1.123e+05   17.68  < 2e-16 ***\n",
            "Q002D       4.879e+01  2.266e+00 1.123e+05   21.53  < 2e-16 ***\n",
            "Q002E       6.989e+01  2.132e+00 1.123e+05   32.78  < 2e-16 ***\n",
            "Q002F       1.114e+02  2.226e+00 1.123e+05   50.05  < 2e-16 ***\n",
            "Q002G       1.209e+02  2.233e+00 1.123e+05   54.15  < 2e-16 ***\n",
            "Q002H       3.253e+01  2.913e+00 1.123e+05   11.17  < 2e-16 ***\n",
            "---\n",
            "Signif. codes:  0 ‘***’ 0.001 ‘**’ 0.01 ‘*’ 0.05 ‘.’ 0.1 ‘ ’ 1\n",
            "\n",
            "Correlation of Fixed Effects:\n",
            "      (Intr) Q002B  Q002C  Q002D  Q002E  Q002F  Q002G \n",
            "Q002B -0.093                                          \n",
            "Q002C -0.092  0.828                                   \n",
            "Q002D -0.093  0.833  0.828                            \n",
            "Q002E -0.099  0.885  0.880  0.886                     \n",
            "Q002F -0.096  0.847  0.842  0.848  0.903              \n",
            "Q002G -0.096  0.845  0.839  0.845  0.900  0.866       \n",
            "Q002H -0.073  0.648  0.645  0.649  0.690  0.660  0.658\n"
          ]
        }
      ]
    },
    {
      "cell_type": "code",
      "source": [
        "%%R\n",
        "(rr2 <- ranef(modelo))"
      ],
      "metadata": {
        "colab": {
          "base_uri": "https://localhost:8080/"
        },
        "id": "7OXbDcKBik00",
        "outputId": "db75358e-54f5-445b-ce02-e25574825187"
      },
      "execution_count": null,
      "outputs": [
        {
          "output_type": "stream",
          "name": "stdout",
          "text": [
            "$TP_ESCOLACAT\n",
            "             (Intercept)\n",
            "NaoRespondeu   -5.820972\n",
            "Privada        16.073418\n",
            "Publica       -10.252446\n",
            "\n",
            "with conditional variances for “TP_ESCOLACAT” \n"
          ]
        }
      ]
    },
    {
      "cell_type": "code",
      "source": [
        "%%R -i df\n",
        "# LMER model in R\n",
        "modelo<-lmer('NU_NOTA_MT ~ Q002+NU_NOTA_CN+(1|TP_ESCOLACAT)', data=df)\n",
        "print(summary(modelo))"
      ],
      "metadata": {
        "colab": {
          "base_uri": "https://localhost:8080/"
        },
        "id": "7tZMCcjjzqP-",
        "outputId": "7d23420a-b3f4-4d4e-81e7-9efbfffefd76"
      },
      "execution_count": null,
      "outputs": [
        {
          "output_type": "stream",
          "name": "stderr",
          "text": [
            "/usr/local/lib/python3.10/dist-packages/rpy2/robjects/pandas2ri.py:55: FutureWarning: iteritems is deprecated and will be removed in a future version. Use .items instead.\n",
            "  for name, values in obj.iteritems():\n"
          ]
        },
        {
          "output_type": "stream",
          "name": "stdout",
          "text": [
            "Linear mixed model fit by REML. t-tests use Satterthwaite's method [\n",
            "lmerModLmerTest]\n",
            "Formula: \"NU_NOTA_MT ~ Q002+NU_NOTA_CN+(1|TP_ESCOLACAT)\"\n",
            "   Data: df\n",
            "\n",
            "REML criterion at convergence: 1302373\n",
            "\n",
            "Scaled residuals: \n",
            "    Min      1Q  Median      3Q     Max \n",
            "-6.8200 -0.7036 -0.0185  0.6897  9.8830 \n",
            "\n",
            "Random effects:\n",
            " Groups       Name        Variance Std.Dev.\n",
            " TP_ESCOLACAT (Intercept)  199     14.11   \n",
            " Residual                 6370     79.81   \n",
            "Number of obs: 112300, groups:  TP_ESCOLACAT, 3\n",
            "\n",
            "Fixed effects:\n",
            "             Estimate Std. Error        df t value Pr(>|t|)    \n",
            "(Intercept) 8.633e+01  8.433e+00 2.285e+00  10.236  0.00588 ** \n",
            "Q002B       1.261e+01  1.764e+00 1.123e+05   7.148 8.88e-13 ***\n",
            "Q002C       2.326e+01  1.778e+00 1.123e+05  13.083  < 2e-16 ***\n",
            "Q002D       2.928e+01  1.767e+00 1.123e+05  16.567  < 2e-16 ***\n",
            "Q002E       3.850e+01  1.666e+00 1.123e+05  23.113  < 2e-16 ***\n",
            "Q002F       5.617e+01  1.747e+00 1.123e+05  32.148  < 2e-16 ***\n",
            "Q002G       5.998e+01  1.755e+00 1.123e+05  34.178  < 2e-16 ***\n",
            "Q002H       2.230e+01  2.271e+00 1.123e+05   9.821  < 2e-16 ***\n",
            "NU_NOTA_CN  8.476e-01  3.147e-03 1.123e+05 269.346  < 2e-16 ***\n",
            "---\n",
            "Signif. codes:  0 ‘***’ 0.001 ‘**’ 0.01 ‘*’ 0.05 ‘.’ 0.1 ‘ ’ 1\n",
            "\n",
            "Correlation of Fixed Effects:\n",
            "           (Intr) Q002B  Q002C  Q002D  Q002E  Q002F  Q002G  Q002H \n",
            "Q002B      -0.171                                                 \n",
            "Q002C      -0.168  0.828                                          \n",
            "Q002D      -0.168  0.833  0.829                                   \n",
            "Q002E      -0.174  0.885  0.880  0.886                            \n",
            "Q002F      -0.159  0.844  0.840  0.846  0.903                     \n",
            "Q002G      -0.156  0.840  0.836  0.843  0.899  0.868              \n",
            "Q002H      -0.134  0.648  0.645  0.649  0.689  0.658  0.655       \n",
            "NU_NOTA_CN -0.171 -0.022 -0.036 -0.041 -0.070 -0.117 -0.129 -0.017\n"
          ]
        }
      ]
    },
    {
      "cell_type": "code",
      "source": [
        "%%R -i df\n",
        "# LMER model in R\n",
        "modelo<-lmer('NU_NOTA_MT ~ NU_NOTA_CN+TP_SEXO+(1|TP_ESCOLACAT)', data=df)\n",
        "print(summary(modelo))"
      ],
      "metadata": {
        "colab": {
          "base_uri": "https://localhost:8080/"
        },
        "id": "Tn2aLltR10fG",
        "outputId": "e4bafdf9-6d59-4dea-8336-217fe2eda984"
      },
      "execution_count": null,
      "outputs": [
        {
          "output_type": "stream",
          "name": "stderr",
          "text": [
            "/usr/local/lib/python3.10/dist-packages/rpy2/robjects/pandas2ri.py:55: FutureWarning: iteritems is deprecated and will be removed in a future version. Use .items instead.\n",
            "  for name, values in obj.iteritems():\n"
          ]
        },
        {
          "output_type": "stream",
          "name": "stdout",
          "text": [
            "Linear mixed model fit by REML. t-tests use Satterthwaite's method [\n",
            "lmerModLmerTest]\n",
            "Formula: \"NU_NOTA_MT ~ NU_NOTA_CN+TP_SEXO+(1|TP_ESCOLACAT)\"\n",
            "   Data: df\n",
            "\n",
            "REML criterion at convergence: 1304728\n",
            "\n",
            "Scaled residuals: \n",
            "    Min      1Q  Median      3Q     Max \n",
            "-6.6389 -0.7032 -0.0172  0.6938  9.7850 \n",
            "\n",
            "Random effects:\n",
            " Groups       Name        Variance Std.Dev.\n",
            " TP_ESCOLACAT (Intercept)  384.6   19.61   \n",
            " Residual                 6504.0   80.65   \n",
            "Number of obs: 112300, groups:  TP_ESCOLACAT, 3\n",
            "\n",
            "Fixed effects:\n",
            "             Estimate Std. Error        df t value Pr(>|t|)    \n",
            "(Intercept) 1.015e+02  1.143e+01 2.072e+00   8.883   0.0111 *  \n",
            "NU_NOTA_CN  8.821e-01  3.096e-03 1.123e+05 284.872   <2e-16 ***\n",
            "TP_SEXOM    1.961e+01  4.996e-01 1.123e+05  39.250   <2e-16 ***\n",
            "---\n",
            "Signif. codes:  0 ‘***’ 0.001 ‘**’ 0.01 ‘*’ 0.05 ‘.’ 0.1 ‘ ’ 1\n",
            "\n",
            "Correlation of Fixed Effects:\n",
            "           (Intr) NU_NOT\n",
            "NU_NOTA_CN -0.134       \n",
            "TP_SEXOM    0.000 -0.130\n"
          ]
        }
      ]
    },
    {
      "cell_type": "code",
      "source": [
        "%%R\n",
        "\n",
        "(rr2 <- ranef(modelo))"
      ],
      "metadata": {
        "colab": {
          "base_uri": "https://localhost:8080/"
        },
        "id": "WwMgKabe2CxF",
        "outputId": "7cd21972-fc24-4021-877f-7a8ec296a9ab"
      },
      "execution_count": null,
      "outputs": [
        {
          "output_type": "stream",
          "name": "stdout",
          "text": [
            "$TP_ESCOLACAT\n",
            "             (Intercept)\n",
            "NaoRespondeu   -8.773191\n",
            "Privada        22.455481\n",
            "Publica       -13.682291\n",
            "\n",
            "with conditional variances for “TP_ESCOLACAT” \n"
          ]
        }
      ]
    },
    {
      "cell_type": "code",
      "source": [
        "%%R -i df\n",
        "# LMER model in R\n",
        "modelo2<-lmer('NU_NOTA_MT ~ Q002+(1+Q002|TP_ESCOLACAT)', data=df)\n",
        "print(summary(modelo2))"
      ],
      "metadata": {
        "colab": {
          "base_uri": "https://localhost:8080/"
        },
        "id": "SwmXWcdsvD1l",
        "outputId": "3a3f798f-bef4-4bfe-e501-cdad43e49bc8"
      },
      "execution_count": null,
      "outputs": [
        {
          "output_type": "stream",
          "name": "stderr",
          "text": [
            "/usr/local/lib/python3.10/dist-packages/rpy2/robjects/pandas2ri.py:55: FutureWarning: iteritems is deprecated and will be removed in a future version. Use .items instead.\n",
            "  for name, values in obj.iteritems():\n",
            "WARNING:rpy2.rinterface_lib.callbacks:R[write to console]: boundary (singular) fit: see help('isSingular')\n",
            "\n"
          ]
        },
        {
          "output_type": "stream",
          "name": "stdout",
          "text": [
            "Linear mixed model fit by REML. t-tests use Satterthwaite's method [\n",
            "lmerModLmerTest]\n",
            "Formula: \"NU_NOTA_MT ~ Q002+(1+Q002|TP_ESCOLACAT)\"\n",
            "   Data: df\n",
            "\n",
            "REML criterion at convergence: 1358068\n",
            "\n",
            "Scaled residuals: \n",
            "    Min      1Q  Median      3Q     Max \n",
            "-5.8206 -0.7599 -0.1252  0.6858  4.3653 \n",
            "\n",
            "Random effects:\n",
            " Groups       Name        Variance Std.Dev. Corr                               \n",
            " TP_ESCOLACAT (Intercept)  1185.51  34.431                                     \n",
            "              Q002B         162.64  12.753   0.87                              \n",
            "              Q002C         135.16  11.626   0.71  0.97                        \n",
            "              Q002D          84.12   9.172   0.07  0.56  0.76                  \n",
            "              Q002E         132.59  11.515  -0.06  0.44  0.66  0.99            \n",
            "              Q002F         406.09  20.152  -0.11  0.40  0.62  0.98  1.00      \n",
            "              Q002G         496.89  22.291   0.03  0.52  0.73  1.00  1.00  0.99\n",
            "              Q002H         717.79  26.792   0.93  0.99  0.92  0.43  0.31  0.26\n",
            " Residual                 10460.06 102.274                                     \n",
            "      \n",
            "      \n",
            "      \n",
            "      \n",
            "      \n",
            "      \n",
            "      \n",
            "      \n",
            "  0.40\n",
            "      \n",
            "Number of obs: 112300, groups:  TP_ESCOLACAT, 3\n",
            "\n",
            "Fixed effects:\n",
            "            Estimate Std. Error       df t value Pr(>|t|)  \n",
            "(Intercept) 483.0151    20.0186   0.9879  24.128   0.0273 *\n",
            "Q002B        25.0043     7.7040   0.3101   3.246   0.4810  \n",
            "Q002C        39.1597     7.0966   0.4246   5.518   0.3178  \n",
            "Q002D        42.9726     5.7947   2.0264   7.416   0.0171 *\n",
            "Q002E        62.8434     7.0318   1.9384   8.937   0.0135 *\n",
            "Q002F       100.7460    11.9120   1.9246   8.458   0.0154 *\n",
            "Q002G       109.6263    13.1245   2.0030   8.353   0.0140 *\n",
            "Q002H        38.3207    15.7424   0.8148   2.434   0.2911  \n",
            "---\n",
            "Signif. codes:  0 ‘***’ 0.001 ‘**’ 0.01 ‘*’ 0.05 ‘.’ 0.1 ‘ ’ 1\n",
            "\n",
            "Correlation of Fixed Effects:\n",
            "      (Intr) Q002B  Q002C  Q002D  Q002E  Q002F  Q002G \n",
            "Q002B  0.795                                          \n",
            "Q002C  0.633  0.952                                   \n",
            "Q002D  0.023  0.585  0.762                            \n",
            "Q002E -0.097  0.478  0.680  0.974                     \n",
            "Q002F -0.132  0.419  0.630  0.951  0.986              \n",
            "Q002G  0.009  0.535  0.725  0.962  0.981  0.986       \n",
            "Q002H  0.895  0.965  0.892  0.436  0.323  0.273  0.402\n",
            "optimizer (nloptwrap) convergence code: 0 (OK)\n",
            "boundary (singular) fit: see help('isSingular')\n",
            "\n"
          ]
        }
      ]
    },
    {
      "cell_type": "code",
      "source": [
        "%%R\n",
        "\n",
        "(rr2 <- ranef(modelo2))"
      ],
      "metadata": {
        "colab": {
          "base_uri": "https://localhost:8080/"
        },
        "id": "yclgqOc0N62S",
        "outputId": "fae9d5bd-2db3-49de-c691-4bd00f894fb9"
      },
      "execution_count": null,
      "outputs": [
        {
          "output_type": "stream",
          "name": "stderr",
          "text": [
            "UsageError: Cell magic `%%R` not found.\n"
          ]
        }
      ]
    },
    {
      "cell_type": "code",
      "source": [],
      "metadata": {
        "id": "7-7EspsaxXOh"
      },
      "execution_count": null,
      "outputs": []
    },
    {
      "cell_type": "code",
      "source": [],
      "metadata": {
        "id": "mpNFKWa2xXWC"
      },
      "execution_count": null,
      "outputs": []
    }
  ]
}